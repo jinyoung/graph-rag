{
 "cells": [
  {
   "cell_type": "code",
   "execution_count": null,
   "metadata": {
    "tags": [
     "hide_cell"
    ]
   },
   "outputs": [],
   "source": [
    "# ruff: noqa: I001, E501, T201"
   ]
  },
  {
   "cell_type": "markdown",
   "metadata": {},
   "source": [
    "# Graph RAG on Movie Reviews from Rotten Tomatoes\n",
    "\n",
    "This notebook presents a basic case study for using graph RAG techniques to\n",
    "combine the power of retrieval-augmented generation (RAG) with knowledge graphs\n",
    "based on datasets that are linked to one another in a natural way.\n",
    "\n",
    "In particular, we use the `GraphRetriever` implementation in LangChain. For more\n",
    "information, see the open-source [Graph RAG project on\n",
    "GitHub](https://datastax.github.io/graph-rag)\n",
    "\n",
    "\n",
    "## The Dataset\n",
    "\n",
    "The website Rotten Tomatoes has published a [large dataset of movie\n",
    "reviews](https://www.kaggle.com/datasets/andrezaza/clapper-massive-rotten-tomatoes-movies-and-reviews).\n",
    "The dataset includes two CSV files containing:\n",
    "\n",
    "1. the movie reviews, and\n",
    "2. information about the movies referenced in those reviews\n",
    "\n",
    "\n",
    "## The Challenge\n",
    "\n",
    "In this case study, the challenge is to build a system that allows users to\n",
    "search movie review content using arbitrary prompts, and then return the top\n",
    "reviews together with the full information about the reviewed movies.\n",
    "\n",
    "\n",
    "## The Strategy\n",
    "\n",
    "First, we build a standard RAG system for querying the movie reviews, which are\n",
    "embedded and stored in a vector database. It is important to note that in this\n",
    "step, **we store the embedded reviews together with metadata that is necessary\n",
    "for traversing the knowledge graph and linking reviews with the movie data.**\n",
    "\n",
    "Second, we use a `GraphRetriever` that is configured specifically to:\n",
    "\n",
    "1. retrieve relevant movie reviews via standard RAG,\n",
    "2. traverse the knowledge graph edges to the relevant movies, and\n",
    "3. return the full movie data together with each movie review.\n",
    "\n",
    "In this implementation, the metadata is the basis for the knowledge graph, and\n",
    "the mechanics of graph traversal is specified as part of the `GraphRetriever`.\n",
    "In this way, a change in the configuration of the `GraphRetriever` changes the\n",
    "way that graph edges are defined and how the implied knowledge graph is\n",
    "traversed. There is no need to modify the data set or re-build the knoweledge\n",
    "graph beyond specifying a new `GraphRetriever` configuration.\n",
    "\n",
    "See below for how to build this graph RAG system."
   ]
  },
  {
   "cell_type": "code",
   "execution_count": 1,
   "metadata": {},
   "outputs": [
    {
     "name": "stdout",
     "output_type": "stream",
     "text": [
      "\u001b[33mWARNING: Ignoring invalid distribution ~angchain-community (/Users/uengine/.pyenv/versions/3.11.7/lib/python3.11/site-packages)\u001b[0m\u001b[33m\n",
      "\u001b[0mCollecting dotenv\n",
      "  Downloading dotenv-0.9.9-py2.py3-none-any.whl.metadata (279 bytes)\n",
      "Requirement already satisfied: pandas in /Users/uengine/.pyenv/versions/3.11.7/lib/python3.11/site-packages (2.0.3)\n",
      "Requirement already satisfied: langchain_openai in /Users/uengine/.pyenv/versions/3.11.7/lib/python3.11/site-packages (0.3.16)\n",
      "Requirement already satisfied: langchain-graph-retriever in /Users/uengine/.pyenv/versions/3.11.7/lib/python3.11/site-packages (0.8.0)\n",
      "Requirement already satisfied: langchain-astradb in /Users/uengine/.pyenv/versions/3.11.7/lib/python3.11/site-packages (0.6.0)\n",
      "Requirement already satisfied: python-dotenv in /Users/uengine/.pyenv/versions/3.11.7/lib/python3.11/site-packages (from dotenv) (1.1.0)\n",
      "Requirement already satisfied: python-dateutil>=2.8.2 in /Users/uengine/.pyenv/versions/3.11.7/lib/python3.11/site-packages (from pandas) (2.9.0.post0)\n",
      "Requirement already satisfied: pytz>=2020.1 in /Users/uengine/.pyenv/versions/3.11.7/lib/python3.11/site-packages (from pandas) (2025.1)\n",
      "Requirement already satisfied: tzdata>=2022.1 in /Users/uengine/.pyenv/versions/3.11.7/lib/python3.11/site-packages (from pandas) (2025.1)\n",
      "Requirement already satisfied: numpy>=1.21.0 in /Users/uengine/.pyenv/versions/3.11.7/lib/python3.11/site-packages (from pandas) (1.26.4)\n",
      "Requirement already satisfied: langchain-core<1.0.0,>=0.3.58 in /Users/uengine/.pyenv/versions/3.11.7/lib/python3.11/site-packages (from langchain_openai) (0.3.59)\n",
      "Requirement already satisfied: openai<2.0.0,>=1.68.2 in /Users/uengine/.pyenv/versions/3.11.7/lib/python3.11/site-packages (from langchain_openai) (1.77.0)\n",
      "Requirement already satisfied: tiktoken<1,>=0.7 in /Users/uengine/.pyenv/versions/3.11.7/lib/python3.11/site-packages (from langchain_openai) (0.9.0)\n",
      "Requirement already satisfied: backoff>=2.2.1 in /Users/uengine/.pyenv/versions/3.11.7/lib/python3.11/site-packages (from langchain-graph-retriever) (2.2.1)\n",
      "Requirement already satisfied: graph-retriever in /Users/uengine/.pyenv/versions/3.11.7/lib/python3.11/site-packages (from langchain-graph-retriever) (0.8.0)\n",
      "Requirement already satisfied: immutabledict>=4.2.1 in /Users/uengine/.pyenv/versions/3.11.7/lib/python3.11/site-packages (from langchain-graph-retriever) (4.2.1)\n",
      "Requirement already satisfied: networkx>=3.4.2 in /Users/uengine/.pyenv/versions/3.11.7/lib/python3.11/site-packages (from langchain-graph-retriever) (3.4.2)\n",
      "Requirement already satisfied: pydantic>=2.10.4 in /Users/uengine/.pyenv/versions/3.11.7/lib/python3.11/site-packages (from langchain-graph-retriever) (2.11.4)\n",
      "Requirement already satisfied: typing-extensions>=4.12.2 in /Users/uengine/.pyenv/versions/3.11.7/lib/python3.11/site-packages (from langchain-graph-retriever) (4.12.2)\n",
      "Requirement already satisfied: astrapy<3.0.0,>=2.0.1 in /Users/uengine/.pyenv/versions/3.11.7/lib/python3.11/site-packages (from langchain-astradb) (2.0.1)\n",
      "Requirement already satisfied: langchain-community>=0.3.1 in /Users/uengine/.pyenv/versions/3.11.7/lib/python3.11/site-packages (from langchain-astradb) (0.3.24)\n",
      "Requirement already satisfied: deprecation<2.2.0,>=2.1.0 in /Users/uengine/.pyenv/versions/3.11.7/lib/python3.11/site-packages (from astrapy<3.0.0,>=2.0.1->langchain-astradb) (2.1.0)\n",
      "Requirement already satisfied: httpx<1,>=0.25.2 in /Users/uengine/.pyenv/versions/3.11.7/lib/python3.11/site-packages (from httpx[http2]<1,>=0.25.2->astrapy<3.0.0,>=2.0.1->langchain-astradb) (0.28.1)\n",
      "Requirement already satisfied: pymongo>=3 in /Users/uengine/.pyenv/versions/3.11.7/lib/python3.11/site-packages (from astrapy<3.0.0,>=2.0.1->langchain-astradb) (4.12.1)\n",
      "Requirement already satisfied: toml<0.11.0,>=0.10.2 in /Users/uengine/.pyenv/versions/3.11.7/lib/python3.11/site-packages (from astrapy<3.0.0,>=2.0.1->langchain-astradb) (0.10.2)\n",
      "Requirement already satisfied: uuid6>=2024.1.12 in /Users/uengine/.pyenv/versions/3.11.7/lib/python3.11/site-packages (from astrapy<3.0.0,>=2.0.1->langchain-astradb) (2024.7.10)\n",
      "Requirement already satisfied: langchain<1.0.0,>=0.3.25 in /Users/uengine/.pyenv/versions/3.11.7/lib/python3.11/site-packages (from langchain-community>=0.3.1->langchain-astradb) (0.3.25)\n",
      "Requirement already satisfied: SQLAlchemy<3,>=1.4 in /Users/uengine/.pyenv/versions/3.11.7/lib/python3.11/site-packages (from langchain-community>=0.3.1->langchain-astradb) (2.0.38)\n",
      "Requirement already satisfied: requests<3,>=2 in /Users/uengine/.pyenv/versions/3.11.7/lib/python3.11/site-packages (from langchain-community>=0.3.1->langchain-astradb) (2.32.3)\n",
      "Requirement already satisfied: PyYAML>=5.3 in /Users/uengine/.pyenv/versions/3.11.7/lib/python3.11/site-packages (from langchain-community>=0.3.1->langchain-astradb) (6.0.2)\n",
      "Requirement already satisfied: aiohttp<4.0.0,>=3.8.3 in /Users/uengine/.pyenv/versions/3.11.7/lib/python3.11/site-packages (from langchain-community>=0.3.1->langchain-astradb) (3.11.13)\n",
      "Requirement already satisfied: tenacity!=8.4.0,<10,>=8.1.0 in /Users/uengine/.pyenv/versions/3.11.7/lib/python3.11/site-packages (from langchain-community>=0.3.1->langchain-astradb) (8.5.0)\n",
      "Requirement already satisfied: dataclasses-json<0.7,>=0.5.7 in /Users/uengine/.pyenv/versions/3.11.7/lib/python3.11/site-packages (from langchain-community>=0.3.1->langchain-astradb) (0.5.7)\n",
      "Requirement already satisfied: pydantic-settings<3.0.0,>=2.4.0 in /Users/uengine/.pyenv/versions/3.11.7/lib/python3.11/site-packages (from langchain-community>=0.3.1->langchain-astradb) (2.8.1)\n",
      "Requirement already satisfied: langsmith<0.4,>=0.1.125 in /Users/uengine/.pyenv/versions/3.11.7/lib/python3.11/site-packages (from langchain-community>=0.3.1->langchain-astradb) (0.3.42)\n",
      "Requirement already satisfied: httpx-sse<1.0.0,>=0.4.0 in /Users/uengine/.pyenv/versions/3.11.7/lib/python3.11/site-packages (from langchain-community>=0.3.1->langchain-astradb) (0.4.0)\n",
      "Requirement already satisfied: jsonpatch<2.0,>=1.33 in /Users/uengine/.pyenv/versions/3.11.7/lib/python3.11/site-packages (from langchain-core<1.0.0,>=0.3.58->langchain_openai) (1.33)\n",
      "Requirement already satisfied: packaging<25,>=23.2 in /Users/uengine/.pyenv/versions/3.11.7/lib/python3.11/site-packages (from langchain-core<1.0.0,>=0.3.58->langchain_openai) (23.2)\n",
      "Requirement already satisfied: anyio<5,>=3.5.0 in /Users/uengine/.pyenv/versions/3.11.7/lib/python3.11/site-packages (from openai<2.0.0,>=1.68.2->langchain_openai) (4.8.0)\n",
      "Requirement already satisfied: distro<2,>=1.7.0 in /Users/uengine/.pyenv/versions/3.11.7/lib/python3.11/site-packages (from openai<2.0.0,>=1.68.2->langchain_openai) (1.9.0)\n",
      "Requirement already satisfied: jiter<1,>=0.4.0 in /Users/uengine/.pyenv/versions/3.11.7/lib/python3.11/site-packages (from openai<2.0.0,>=1.68.2->langchain_openai) (0.8.2)\n",
      "Requirement already satisfied: sniffio in /Users/uengine/.pyenv/versions/3.11.7/lib/python3.11/site-packages (from openai<2.0.0,>=1.68.2->langchain_openai) (1.3.0)\n",
      "Requirement already satisfied: tqdm>4 in /Users/uengine/.pyenv/versions/3.11.7/lib/python3.11/site-packages (from openai<2.0.0,>=1.68.2->langchain_openai) (4.67.1)\n",
      "Requirement already satisfied: annotated-types>=0.6.0 in /Users/uengine/.pyenv/versions/3.11.7/lib/python3.11/site-packages (from pydantic>=2.10.4->langchain-graph-retriever) (0.6.0)\n",
      "Requirement already satisfied: pydantic-core==2.33.2 in /Users/uengine/.pyenv/versions/3.11.7/lib/python3.11/site-packages (from pydantic>=2.10.4->langchain-graph-retriever) (2.33.2)\n",
      "Requirement already satisfied: typing-inspection>=0.4.0 in /Users/uengine/.pyenv/versions/3.11.7/lib/python3.11/site-packages (from pydantic>=2.10.4->langchain-graph-retriever) (0.4.0)\n",
      "Requirement already satisfied: six>=1.5 in /Users/uengine/.pyenv/versions/3.11.7/lib/python3.11/site-packages (from python-dateutil>=2.8.2->pandas) (1.17.0)\n",
      "Requirement already satisfied: regex>=2022.1.18 in /Users/uengine/.pyenv/versions/3.11.7/lib/python3.11/site-packages (from tiktoken<1,>=0.7->langchain_openai) (2024.11.6)\n",
      "Requirement already satisfied: pytest>=8.3.4 in /Users/uengine/.pyenv/versions/3.11.7/lib/python3.11/site-packages (from graph-retriever->langchain-graph-retriever) (8.3.5)\n",
      "Requirement already satisfied: aiohappyeyeballs>=2.3.0 in /Users/uengine/.pyenv/versions/3.11.7/lib/python3.11/site-packages (from aiohttp<4.0.0,>=3.8.3->langchain-community>=0.3.1->langchain-astradb) (2.4.6)\n",
      "Requirement already satisfied: aiosignal>=1.1.2 in /Users/uengine/.pyenv/versions/3.11.7/lib/python3.11/site-packages (from aiohttp<4.0.0,>=3.8.3->langchain-community>=0.3.1->langchain-astradb) (1.3.2)\n",
      "Requirement already satisfied: attrs>=17.3.0 in /Users/uengine/.pyenv/versions/3.11.7/lib/python3.11/site-packages (from aiohttp<4.0.0,>=3.8.3->langchain-community>=0.3.1->langchain-astradb) (25.1.0)\n",
      "Requirement already satisfied: frozenlist>=1.1.1 in /Users/uengine/.pyenv/versions/3.11.7/lib/python3.11/site-packages (from aiohttp<4.0.0,>=3.8.3->langchain-community>=0.3.1->langchain-astradb) (1.5.0)\n",
      "Requirement already satisfied: multidict<7.0,>=4.5 in /Users/uengine/.pyenv/versions/3.11.7/lib/python3.11/site-packages (from aiohttp<4.0.0,>=3.8.3->langchain-community>=0.3.1->langchain-astradb) (6.1.0)\n",
      "Requirement already satisfied: propcache>=0.2.0 in /Users/uengine/.pyenv/versions/3.11.7/lib/python3.11/site-packages (from aiohttp<4.0.0,>=3.8.3->langchain-community>=0.3.1->langchain-astradb) (0.3.0)\n",
      "Requirement already satisfied: yarl<2.0,>=1.17.0 in /Users/uengine/.pyenv/versions/3.11.7/lib/python3.11/site-packages (from aiohttp<4.0.0,>=3.8.3->langchain-community>=0.3.1->langchain-astradb) (1.18.3)\n",
      "Requirement already satisfied: idna>=2.8 in /Users/uengine/.pyenv/versions/3.11.7/lib/python3.11/site-packages (from anyio<5,>=3.5.0->openai<2.0.0,>=1.68.2->langchain_openai) (3.7)\n",
      "Requirement already satisfied: marshmallow<4.0.0,>=3.3.0 in /Users/uengine/.pyenv/versions/3.11.7/lib/python3.11/site-packages (from dataclasses-json<0.7,>=0.5.7->langchain-community>=0.3.1->langchain-astradb) (3.26.1)\n",
      "Requirement already satisfied: marshmallow-enum<2.0.0,>=1.5.1 in /Users/uengine/.pyenv/versions/3.11.7/lib/python3.11/site-packages (from dataclasses-json<0.7,>=0.5.7->langchain-community>=0.3.1->langchain-astradb) (1.5.1)\n",
      "Requirement already satisfied: typing-inspect>=0.4.0 in /Users/uengine/.pyenv/versions/3.11.7/lib/python3.11/site-packages (from dataclasses-json<0.7,>=0.5.7->langchain-community>=0.3.1->langchain-astradb) (0.9.0)\n",
      "Requirement already satisfied: certifi in /Users/uengine/.pyenv/versions/3.11.7/lib/python3.11/site-packages (from httpx<1,>=0.25.2->httpx[http2]<1,>=0.25.2->astrapy<3.0.0,>=2.0.1->langchain-astradb) (2024.7.4)\n",
      "Requirement already satisfied: httpcore==1.* in /Users/uengine/.pyenv/versions/3.11.7/lib/python3.11/site-packages (from httpx<1,>=0.25.2->httpx[http2]<1,>=0.25.2->astrapy<3.0.0,>=2.0.1->langchain-astradb) (1.0.2)\n",
      "Requirement already satisfied: h11<0.15,>=0.13 in /Users/uengine/.pyenv/versions/3.11.7/lib/python3.11/site-packages (from httpcore==1.*->httpx<1,>=0.25.2->httpx[http2]<1,>=0.25.2->astrapy<3.0.0,>=2.0.1->langchain-astradb) (0.14.0)\n",
      "Requirement already satisfied: h2<5,>=3 in /Users/uengine/.pyenv/versions/3.11.7/lib/python3.11/site-packages (from httpx[http2]<1,>=0.25.2->astrapy<3.0.0,>=2.0.1->langchain-astradb) (4.2.0)\n",
      "Requirement already satisfied: jsonpointer>=1.9 in /Users/uengine/.pyenv/versions/3.11.7/lib/python3.11/site-packages (from jsonpatch<2.0,>=1.33->langchain-core<1.0.0,>=0.3.58->langchain_openai) (3.0.0)\n",
      "Requirement already satisfied: langchain-text-splitters<1.0.0,>=0.3.8 in /Users/uengine/.pyenv/versions/3.11.7/lib/python3.11/site-packages (from langchain<1.0.0,>=0.3.25->langchain-community>=0.3.1->langchain-astradb) (0.3.8)\n",
      "Requirement already satisfied: orjson<4.0.0,>=3.9.14 in /Users/uengine/.pyenv/versions/3.11.7/lib/python3.11/site-packages (from langsmith<0.4,>=0.1.125->langchain-community>=0.3.1->langchain-astradb) (3.10.15)\n",
      "Requirement already satisfied: requests-toolbelt<2.0.0,>=1.0.0 in /Users/uengine/.pyenv/versions/3.11.7/lib/python3.11/site-packages (from langsmith<0.4,>=0.1.125->langchain-community>=0.3.1->langchain-astradb) (1.0.0)\n",
      "Requirement already satisfied: zstandard<0.24.0,>=0.23.0 in /Users/uengine/.pyenv/versions/3.11.7/lib/python3.11/site-packages (from langsmith<0.4,>=0.1.125->langchain-community>=0.3.1->langchain-astradb) (0.23.0)\n",
      "Requirement already satisfied: dnspython<3.0.0,>=1.16.0 in /Users/uengine/.pyenv/versions/3.11.7/lib/python3.11/site-packages (from pymongo>=3->astrapy<3.0.0,>=2.0.1->langchain-astradb) (2.7.0)\n",
      "Requirement already satisfied: iniconfig in /Users/uengine/.pyenv/versions/3.11.7/lib/python3.11/site-packages (from pytest>=8.3.4->graph-retriever->langchain-graph-retriever) (2.1.0)\n",
      "Requirement already satisfied: pluggy<2,>=1.5 in /Users/uengine/.pyenv/versions/3.11.7/lib/python3.11/site-packages (from pytest>=8.3.4->graph-retriever->langchain-graph-retriever) (1.5.0)\n",
      "Requirement already satisfied: charset-normalizer<4,>=2 in /Users/uengine/.pyenv/versions/3.11.7/lib/python3.11/site-packages (from requests<3,>=2->langchain-community>=0.3.1->langchain-astradb) (3.3.2)\n",
      "Requirement already satisfied: urllib3<3,>=1.21.1 in /Users/uengine/.pyenv/versions/3.11.7/lib/python3.11/site-packages (from requests<3,>=2->langchain-community>=0.3.1->langchain-astradb) (2.4.0)\n",
      "Requirement already satisfied: greenlet!=0.4.17 in /Users/uengine/.pyenv/versions/3.11.7/lib/python3.11/site-packages (from SQLAlchemy<3,>=1.4->langchain-community>=0.3.1->langchain-astradb) (3.1.1)\n",
      "Requirement already satisfied: hyperframe<7,>=6.1 in /Users/uengine/.pyenv/versions/3.11.7/lib/python3.11/site-packages (from h2<5,>=3->httpx[http2]<1,>=0.25.2->astrapy<3.0.0,>=2.0.1->langchain-astradb) (6.1.0)\n",
      "Requirement already satisfied: hpack<5,>=4.1 in /Users/uengine/.pyenv/versions/3.11.7/lib/python3.11/site-packages (from h2<5,>=3->httpx[http2]<1,>=0.25.2->astrapy<3.0.0,>=2.0.1->langchain-astradb) (4.1.0)\n",
      "Requirement already satisfied: mypy-extensions>=0.3.0 in /Users/uengine/.pyenv/versions/3.11.7/lib/python3.11/site-packages (from typing-inspect>=0.4.0->dataclasses-json<0.7,>=0.5.7->langchain-community>=0.3.1->langchain-astradb) (1.0.0)\n",
      "Downloading dotenv-0.9.9-py2.py3-none-any.whl (1.9 kB)\n",
      "\u001b[33mWARNING: Ignoring invalid distribution ~angchain-community (/Users/uengine/.pyenv/versions/3.11.7/lib/python3.11/site-packages)\u001b[0m\u001b[33m\n",
      "\u001b[0mInstalling collected packages: dotenv\n",
      "\u001b[33mWARNING: Ignoring invalid distribution ~angchain-community (/Users/uengine/.pyenv/versions/3.11.7/lib/python3.11/site-packages)\u001b[0m\u001b[33m\n",
      "\u001b[0mSuccessfully installed dotenv-0.9.9\n",
      "\u001b[33mWARNING: Ignoring invalid distribution ~angchain-community (/Users/uengine/.pyenv/versions/3.11.7/lib/python3.11/site-packages)\u001b[0m\u001b[33m\n",
      "\u001b[0m\u001b[33mWARNING: Ignoring invalid distribution ~angchain-community (/Users/uengine/.pyenv/versions/3.11.7/lib/python3.11/site-packages)\u001b[0m\u001b[33m\n",
      "\u001b[0m\n",
      "\u001b[1m[\u001b[0m\u001b[34;49mnotice\u001b[0m\u001b[1;39;49m]\u001b[0m\u001b[39;49m A new release of pip is available: \u001b[0m\u001b[31;49m25.0.1\u001b[0m\u001b[39;49m -> \u001b[0m\u001b[32;49m25.1.1\u001b[0m\n",
      "\u001b[1m[\u001b[0m\u001b[34;49mnotice\u001b[0m\u001b[1;39;49m]\u001b[0m\u001b[39;49m To update, run: \u001b[0m\u001b[32;49mpip install --upgrade pip\u001b[0m\n",
      "Note: you may need to restart the kernel to use updated packages.\n"
     ]
    }
   ],
   "source": [
    "# install the required packages\n",
    "%pip install \\\n",
    "        dotenv \\\n",
    "        pandas \\\n",
    "        langchain_openai \\\n",
    "        langchain-graph-retriever \\\n",
    "        langchain-astradb"
   ]
  },
  {
   "cell_type": "markdown",
   "metadata": {},
   "source": [
    "# Environment Setup\n",
    "\n",
    "This notebook uses the APIs for OpenAI and Astra DB\n",
    "\n",
    "**NOTE:** the environment variables for Astra DB are not required if running\n",
    "only the code with the small data sample below, but are required for the code\n",
    "below that works with the full dataset.\n",
    "\n",
    "You can [get an OpenAI API key here](https://platform.openai.com/settings/organization/api-keys). \n",
    "And, more information about using the OpenAI API in Python \n",
    "[can be found here](https://github.com/openai/openai-python/blob/main/README.md).\n",
    "\n",
    "Here are the [instructions to set up a free Astra serverless database](https://docs.datastax.com/en/astra-db-serverless/databases/create-database.html#create-vector-database).\n",
    "\n",
    "To connect to these services within this notebook, the following environment\n",
    "variables are required (or optional, as noted):\n",
    "\n",
    "- `OPENAI_API_KEY`: Your OpenAI API key.\n",
    "- `ASTRA_DB_API_ENDPOINT`: The Astra DB API endpoint.\n",
    "- `ASTRA_DB_APPLICATION_TOKEN`: The Astra DB Application token.\n",
    "- `ASTRA_DB_KEYSPACE`: Optional. If defined, will specify the Astra DB keyspace. If not defined, will use the default.\n",
    "- `LANGCHAIN_API_KEY`: Optional. If defined, will enable LangSmith tracing.\n",
    "\n",
    "\n",
    "If running this notebook in Colab, configure these environment variables as\n",
    "Colab Secrets.\n",
    "\n",
    "If running this notebook locally, make sure you have a `.env` file containing\n",
    "all of the required variables, and then use the `dotenv` package as below to\n",
    "load environment variables from that file. More details on `dotenv` \n",
    "[can be found here](https://pypi.org/project/python-dotenv/#getting-started).\n",
    "\n"
   ]
  },
  {
   "cell_type": "code",
   "execution_count": 2,
   "metadata": {},
   "outputs": [
    {
     "data": {
      "text/plain": [
       "False"
      ]
     },
     "execution_count": 2,
     "metadata": {},
     "output_type": "execute_result"
    }
   ],
   "source": [
    "from dotenv import load_dotenv\n",
    "\n",
    "# load environment variables from the .env file\n",
    "load_dotenv()"
   ]
  },
  {
   "cell_type": "markdown",
   "metadata": {},
   "source": [
    "# Loading the data\n",
    "\n",
    "The website Rotten Tomatoes has published a [large dataset of movie\n",
    "reviews](https://www.kaggle.com/datasets/andrezaza/clapper-massive-rotten-tomatoes-movies-and-reviews).\n",
    "containing:\n",
    "\n",
    "1. `rotten_tomatoes_movie_reviews.csv` -- the movie reviews\n",
    "2. `rotten_tomatoes_movies.csv` -- information about the movies referenced in those reviews\n",
    "\n",
    "Below, we first give a small sample dataset contained in this notebook, so that\n",
    "you can try this implementation of graph RAG without needing to download and\n",
    "process the full dataset from files.\n",
    "\n",
    "Or, you can skip loading this data sample and proceed directly to \"Loading the\n",
    "full dataset from file\" below.\n"
   ]
  },
  {
   "cell_type": "markdown",
   "metadata": {},
   "source": [
    "## Loading a small data sample\n",
    "\n",
    "Below is a sample dataset that is coded into this notebook as string objects and then read into `pandas` dataframes using `StringIO`."
   ]
  },
  {
   "cell_type": "code",
   "execution_count": 3,
   "metadata": {},
   "outputs": [],
   "source": [
    "import pandas as pd\n",
    "from io import StringIO\n",
    "\n",
    "reviews_data_string = \"\"\"\n",
    "id,reviewId,creationDate,criticName,isTopCritic,originalScore,reviewState,publicatioName,reviewText,scoreSentiment,reviewUrl\n",
    "addams_family,2644238,2019-11-10,James Kendrick,False,3/4,fresh,Q Network Film Desk,captures the family's droll humor with just the right mixture of morbidity and genuine care,POSITIVE,http://www.qnetwork.com/review/4178\n",
    "addams_family,2509777,2018-09-12,John Ferguson,False,4/5,fresh,Radio Times,A witty family comedy that has enough sly humour to keep adults chuckling throughout.,POSITIVE,https://www.radiotimes.com/film/fj8hmt/the-addams-family/\n",
    "addams_family,26216,2000-01-01,Rita Kempley,True,,fresh,Washington Post,\"More than merely a sequel of the TV series, the film is a compendium of paterfamilias Charles Addams's macabre drawings, a resurrection of the cartoonist's body of work. For family friends, it would seem a viewing is de rigueur mortis.\",POSITIVE,http://www.washingtonpost.com/wp-srv/style/longterm/movies/videos/theaddamsfamilypg13kempley_a0a280.htm\n",
    "the_addams_family_2019,2699537,2020-06-27,Damond Fudge,False,,fresh,\"KCCI (Des Moines, IA)\",\"As was proven by the 1992-93 cartoon series, animation is the perfect medium for this creepy, kooky family, allowing more outlandish escapades\",POSITIVE,https://www.kcci.com/article/movie-review-the-addams-family/29443537\n",
    "the_addams_family_2019,2662133,2020-01-21,Ryan Silberstein,False,,fresh,Cinema76,\"This origin casts the Addams family as an immigrant story, and the film leans so hard into the theme of accepting those different from us and valuing diversity over conformity,\",POSITIVE,https://www.cinema76.com/home/2019/10/11/the-addams-family-is-a-fun-update-to-an-iconic-american-clan\n",
    "the_addams_family_2019,2661356,2020-01-17,Jennifer Heaton,False,5.5/10,rotten,Alternative Lens,...The film's simplistic and episodic plot put a major dampener on what could have been a welcome breath of fresh air for family animation.,NEGATIVE,https://altfilmlens.wordpress.com/2020/01/17/my-end-of-year-surplus-review-extravaganza-thing-2019/\n",
    "the_addams_family_2,102657551,2022-02-16,Mat Brunet,False,4/10,rotten,AniMat's Review (YouTube),The Addams Family 2 repeats what the first movie accomplished by taking the popular family and turning them into one of the most boringly generic kids films in recent years.,NEGATIVE,https://www.youtube.com/watch?v=G9deslxPDwI\n",
    "the_addams_family_2,2832101,2021-10-15,Sandie Angulo Chen,False,3/5,fresh,Common Sense Media,This serviceable animated sequel focuses on Wednesday's feelings of alienation and benefits from the family's kid-friendly jokes and road trip adventures.,POSITIVE,https://www.commonsensemedia.org/movie-reviews/the-addams-family-2\n",
    "the_addams_family_2,2829939,2021-10-08,Emily Breen,False,2/5,rotten,HeyUGuys,\"Lifeless and flat, doing a disservice to the family name and the talent who voice them. WIthout glamour, wit or a hint of a soul. A void. Avoid.\",NEGATIVE,https://www.heyuguys.com/the-addams-family-2-review/\n",
    "addams_family_values,102735159,2022-09-22,Sean P. Means,False,3/4,fresh,Salt Lake Tribune,Addams Family Values is a ghoulishly fun time. It would have been a real howl if the producers weren't too scared to go out on a limb in this twisted family tree.,POSITIVE,https://www.newspapers.com/clip/110004014/addams-family-values/\n",
    "addams_family_values,102734540,2022-09-21,Jami Bernard,True,3.5/4,fresh,New York Daily News,\"The title is apt. Using those morbidly sensual cartoon characters as pawns, the new movie Addams Family Values launches a witty assault on those with fixed ideas about what constitutes a loving family. \",POSITIVE,https://www.newspapers.com/clip/109964753/addams-family-values/\n",
    "addams_family_values,102734521,2022-09-21,Jeff Simon,False,3/4,fresh,Buffalo News,\"Addams Family Values has its moments -- rather a lot of them, in fact. You knew that just from the title, which is a nice way of turning Charles Addams' family of ghouls, monsters and vampires loose on Dan Quayle.\",POSITIVE,https://buffalonews.com/news/quirky-values-the-addams-family-returns-with-a-bouncing-baby/article_2aafde74-da6c-5fa7-924a-76bb1a906d9c.html\n",
    "\"\"\"\n",
    "\n",
    "movies_data_string = \"\"\"\n",
    "id,title,audienceScore,tomatoMeter,rating,ratingContents,releaseDateTheaters,releaseDateStreaming,runtimeMinutes,genre,originalLanguage,director,writer,boxOffice,distributor,soundMix\n",
    "addams_family,The Addams Family,66,67,,,1991-11-22,2005-08-18,99,Comedy,English,Barry Sonnenfeld,\"Charles Addams,Caroline Thompson,Larry Wilson\",$111.3M,Paramount Pictures,\"Surround, Dolby SR\"\n",
    "the_addams_family_2019,The Addams Family,69,45,PG,\"['Some Action', 'Macabre and Suggestive Humor']\",2019-10-11,2019-10-11,87,\"Kids & family, Comedy, Animation\",English,\"Conrad Vernon,Greg Tiernan\",\"Matt Lieberman,Erica Rivinoja\",$673.0K,Metro-Goldwyn-Mayer,Dolby Atmos\n",
    "the_addams_family_2,The Addams Family 2,69,28,PG,\"['Macabre and Rude Humor', 'Language', 'Violence']\",2021-10-01,2021-10-01,93,\"Kids & family, Comedy, Adventure, Animation\",English,\"Greg Tiernan,Conrad Vernon\",\"Dan Hernandez,Benji Samit,Ben Queen,Susanna Fogel\",$56.5M,Metro-Goldwyn-Mayer,\n",
    "addams_family_reunion,Addams Family Reunion,33,,,,,,92,Comedy,English,Dave Payne,,,,\n",
    "addams_family_values,Addams Family Values,63,75,,,1993-11-19,2003-08-05,93,Comedy,English,Barry Sonnenfeld,Paul Rudnick,$45.7M,\"Argentina Video Home, Paramount Pictures\",\"Surround, Dolby Digital\"\n",
    "\"\"\"\n",
    "\n",
    "reviews_all = pd.read_csv(StringIO(reviews_data_string))\n",
    "movies_all = pd.read_csv(StringIO(movies_data_string))"
   ]
  },
  {
   "cell_type": "markdown",
   "metadata": {},
   "source": [
    "### Pre-processing the data\n",
    "\n",
    "First, we rename one column in each of the two dataframes so that we can use\n",
    "them later to build a knowledge graph.\n"
   ]
  },
  {
   "cell_type": "code",
   "execution_count": 4,
   "metadata": {},
   "outputs": [],
   "source": [
    "# rename the id columns to more informative and useful names\n",
    "reviews_data = reviews_all.rename(columns={\"id\": \"reviewed_movie_id\"})\n",
    "movies_data = movies_all.rename(columns={\"id\": \"movie_id\"})"
   ]
  },
  {
   "cell_type": "markdown",
   "metadata": {},
   "source": [
    "### Create the vector store, with embedding\n",
    "\n",
    "Next, for the small data sample, we create an `InMemoryVectorStore` from\n",
    "LangChain using `OpenAIEmbeddings()` to embed the documents.\n"
   ]
  },
  {
   "cell_type": "code",
   "execution_count": 6,
   "metadata": {},
   "outputs": [],
   "source": [
    "from getpass import getpass\n",
    "import os\n",
    "\n",
    "# 환경변수 설정\n",
    "os.environ['OPENAI_API_KEY'] = getpass('Enter your OpenAI API key: ')\n",
    "\n",
    "\n",
    "from langchain_core.vectorstores import InMemoryVectorStore\n",
    "from langchain_openai import OpenAIEmbeddings\n",
    "\n",
    "# create the vector store\n",
    "vectorstore = InMemoryVectorStore(OpenAIEmbeddings())"
   ]
  },
  {
   "cell_type": "markdown",
   "metadata": {},
   "source": [
    "## Loading the full dataset from file\n",
    "\n",
    "Before running this code, make sure you have downloaded (and extracted) the\n",
    "dataset from the link provided above. The date files should be in your working\n",
    "directory, or you will need to change the file paths below to match the\n",
    "locations of your files.\n",
    "\n",
    "See the top of this notebook for links and information about the datasets."
   ]
  },
  {
   "cell_type": "code",
   "execution_count": 7,
   "metadata": {
    "tags": [
     "skip-execution"
    ]
   },
   "outputs": [
    {
     "ename": "FileNotFoundError",
     "evalue": "[Errno 2] No such file or directory: '../../../../datasets/rotten_tomatoes_movie_reviews.csv'",
     "output_type": "error",
     "traceback": [
      "\u001b[31m---------------------------------------------------------------------------\u001b[39m",
      "\u001b[31mFileNotFoundError\u001b[39m                         Traceback (most recent call last)",
      "\u001b[36mCell\u001b[39m\u001b[36m \u001b[39m\u001b[32mIn[7]\u001b[39m\u001b[32m, line 8\u001b[39m\n\u001b[32m      5\u001b[39m DATA_PATH = \u001b[33m\"\u001b[39m\u001b[33m../../../../datasets/\u001b[39m\u001b[33m\"\u001b[39m\n\u001b[32m      7\u001b[39m \u001b[38;5;66;03m# read the datasets from CSV files\u001b[39;00m\n\u001b[32m----> \u001b[39m\u001b[32m8\u001b[39m reviews_all = \u001b[43mpd\u001b[49m\u001b[43m.\u001b[49m\u001b[43mread_csv\u001b[49m\u001b[43m(\u001b[49m\u001b[43mDATA_PATH\u001b[49m\u001b[43m \u001b[49m\u001b[43m+\u001b[49m\u001b[43m \u001b[49m\u001b[33;43m\"\u001b[39;49m\u001b[33;43mrotten_tomatoes_movie_reviews.csv\u001b[39;49m\u001b[33;43m\"\u001b[39;49m\u001b[43m)\u001b[49m\n\u001b[32m      9\u001b[39m movies_all = pd.read_csv(DATA_PATH + \u001b[33m\"\u001b[39m\u001b[33mrotten_tomatoes_movies.csv\u001b[39m\u001b[33m\"\u001b[39m)\n\u001b[32m     11\u001b[39m \u001b[38;5;28mprint\u001b[39m(\u001b[33m\"\u001b[39m\u001b[33mData is loaded from CSV.\u001b[39m\u001b[33m\"\u001b[39m)\n",
      "\u001b[36mFile \u001b[39m\u001b[32m~/.pyenv/versions/3.11.7/lib/python3.11/site-packages/pandas/io/parsers/readers.py:912\u001b[39m, in \u001b[36mread_csv\u001b[39m\u001b[34m(filepath_or_buffer, sep, delimiter, header, names, index_col, usecols, dtype, engine, converters, true_values, false_values, skipinitialspace, skiprows, skipfooter, nrows, na_values, keep_default_na, na_filter, verbose, skip_blank_lines, parse_dates, infer_datetime_format, keep_date_col, date_parser, date_format, dayfirst, cache_dates, iterator, chunksize, compression, thousands, decimal, lineterminator, quotechar, quoting, doublequote, escapechar, comment, encoding, encoding_errors, dialect, on_bad_lines, delim_whitespace, low_memory, memory_map, float_precision, storage_options, dtype_backend)\u001b[39m\n\u001b[32m    899\u001b[39m kwds_defaults = _refine_defaults_read(\n\u001b[32m    900\u001b[39m     dialect,\n\u001b[32m    901\u001b[39m     delimiter,\n\u001b[32m   (...)\u001b[39m\u001b[32m    908\u001b[39m     dtype_backend=dtype_backend,\n\u001b[32m    909\u001b[39m )\n\u001b[32m    910\u001b[39m kwds.update(kwds_defaults)\n\u001b[32m--> \u001b[39m\u001b[32m912\u001b[39m \u001b[38;5;28;01mreturn\u001b[39;00m \u001b[43m_read\u001b[49m\u001b[43m(\u001b[49m\u001b[43mfilepath_or_buffer\u001b[49m\u001b[43m,\u001b[49m\u001b[43m \u001b[49m\u001b[43mkwds\u001b[49m\u001b[43m)\u001b[49m\n",
      "\u001b[36mFile \u001b[39m\u001b[32m~/.pyenv/versions/3.11.7/lib/python3.11/site-packages/pandas/io/parsers/readers.py:577\u001b[39m, in \u001b[36m_read\u001b[39m\u001b[34m(filepath_or_buffer, kwds)\u001b[39m\n\u001b[32m    574\u001b[39m _validate_names(kwds.get(\u001b[33m\"\u001b[39m\u001b[33mnames\u001b[39m\u001b[33m\"\u001b[39m, \u001b[38;5;28;01mNone\u001b[39;00m))\n\u001b[32m    576\u001b[39m \u001b[38;5;66;03m# Create the parser.\u001b[39;00m\n\u001b[32m--> \u001b[39m\u001b[32m577\u001b[39m parser = \u001b[43mTextFileReader\u001b[49m\u001b[43m(\u001b[49m\u001b[43mfilepath_or_buffer\u001b[49m\u001b[43m,\u001b[49m\u001b[43m \u001b[49m\u001b[43m*\u001b[49m\u001b[43m*\u001b[49m\u001b[43mkwds\u001b[49m\u001b[43m)\u001b[49m\n\u001b[32m    579\u001b[39m \u001b[38;5;28;01mif\u001b[39;00m chunksize \u001b[38;5;129;01mor\u001b[39;00m iterator:\n\u001b[32m    580\u001b[39m     \u001b[38;5;28;01mreturn\u001b[39;00m parser\n",
      "\u001b[36mFile \u001b[39m\u001b[32m~/.pyenv/versions/3.11.7/lib/python3.11/site-packages/pandas/io/parsers/readers.py:1407\u001b[39m, in \u001b[36mTextFileReader.__init__\u001b[39m\u001b[34m(self, f, engine, **kwds)\u001b[39m\n\u001b[32m   1404\u001b[39m     \u001b[38;5;28mself\u001b[39m.options[\u001b[33m\"\u001b[39m\u001b[33mhas_index_names\u001b[39m\u001b[33m\"\u001b[39m] = kwds[\u001b[33m\"\u001b[39m\u001b[33mhas_index_names\u001b[39m\u001b[33m\"\u001b[39m]\n\u001b[32m   1406\u001b[39m \u001b[38;5;28mself\u001b[39m.handles: IOHandles | \u001b[38;5;28;01mNone\u001b[39;00m = \u001b[38;5;28;01mNone\u001b[39;00m\n\u001b[32m-> \u001b[39m\u001b[32m1407\u001b[39m \u001b[38;5;28mself\u001b[39m._engine = \u001b[38;5;28;43mself\u001b[39;49m\u001b[43m.\u001b[49m\u001b[43m_make_engine\u001b[49m\u001b[43m(\u001b[49m\u001b[43mf\u001b[49m\u001b[43m,\u001b[49m\u001b[43m \u001b[49m\u001b[38;5;28;43mself\u001b[39;49m\u001b[43m.\u001b[49m\u001b[43mengine\u001b[49m\u001b[43m)\u001b[49m\n",
      "\u001b[36mFile \u001b[39m\u001b[32m~/.pyenv/versions/3.11.7/lib/python3.11/site-packages/pandas/io/parsers/readers.py:1661\u001b[39m, in \u001b[36mTextFileReader._make_engine\u001b[39m\u001b[34m(self, f, engine)\u001b[39m\n\u001b[32m   1659\u001b[39m     \u001b[38;5;28;01mif\u001b[39;00m \u001b[33m\"\u001b[39m\u001b[33mb\u001b[39m\u001b[33m\"\u001b[39m \u001b[38;5;129;01mnot\u001b[39;00m \u001b[38;5;129;01min\u001b[39;00m mode:\n\u001b[32m   1660\u001b[39m         mode += \u001b[33m\"\u001b[39m\u001b[33mb\u001b[39m\u001b[33m\"\u001b[39m\n\u001b[32m-> \u001b[39m\u001b[32m1661\u001b[39m \u001b[38;5;28mself\u001b[39m.handles = \u001b[43mget_handle\u001b[49m\u001b[43m(\u001b[49m\n\u001b[32m   1662\u001b[39m \u001b[43m    \u001b[49m\u001b[43mf\u001b[49m\u001b[43m,\u001b[49m\n\u001b[32m   1663\u001b[39m \u001b[43m    \u001b[49m\u001b[43mmode\u001b[49m\u001b[43m,\u001b[49m\n\u001b[32m   1664\u001b[39m \u001b[43m    \u001b[49m\u001b[43mencoding\u001b[49m\u001b[43m=\u001b[49m\u001b[38;5;28;43mself\u001b[39;49m\u001b[43m.\u001b[49m\u001b[43moptions\u001b[49m\u001b[43m.\u001b[49m\u001b[43mget\u001b[49m\u001b[43m(\u001b[49m\u001b[33;43m\"\u001b[39;49m\u001b[33;43mencoding\u001b[39;49m\u001b[33;43m\"\u001b[39;49m\u001b[43m,\u001b[49m\u001b[43m \u001b[49m\u001b[38;5;28;43;01mNone\u001b[39;49;00m\u001b[43m)\u001b[49m\u001b[43m,\u001b[49m\n\u001b[32m   1665\u001b[39m \u001b[43m    \u001b[49m\u001b[43mcompression\u001b[49m\u001b[43m=\u001b[49m\u001b[38;5;28;43mself\u001b[39;49m\u001b[43m.\u001b[49m\u001b[43moptions\u001b[49m\u001b[43m.\u001b[49m\u001b[43mget\u001b[49m\u001b[43m(\u001b[49m\u001b[33;43m\"\u001b[39;49m\u001b[33;43mcompression\u001b[39;49m\u001b[33;43m\"\u001b[39;49m\u001b[43m,\u001b[49m\u001b[43m \u001b[49m\u001b[38;5;28;43;01mNone\u001b[39;49;00m\u001b[43m)\u001b[49m\u001b[43m,\u001b[49m\n\u001b[32m   1666\u001b[39m \u001b[43m    \u001b[49m\u001b[43mmemory_map\u001b[49m\u001b[43m=\u001b[49m\u001b[38;5;28;43mself\u001b[39;49m\u001b[43m.\u001b[49m\u001b[43moptions\u001b[49m\u001b[43m.\u001b[49m\u001b[43mget\u001b[49m\u001b[43m(\u001b[49m\u001b[33;43m\"\u001b[39;49m\u001b[33;43mmemory_map\u001b[39;49m\u001b[33;43m\"\u001b[39;49m\u001b[43m,\u001b[49m\u001b[43m \u001b[49m\u001b[38;5;28;43;01mFalse\u001b[39;49;00m\u001b[43m)\u001b[49m\u001b[43m,\u001b[49m\n\u001b[32m   1667\u001b[39m \u001b[43m    \u001b[49m\u001b[43mis_text\u001b[49m\u001b[43m=\u001b[49m\u001b[43mis_text\u001b[49m\u001b[43m,\u001b[49m\n\u001b[32m   1668\u001b[39m \u001b[43m    \u001b[49m\u001b[43merrors\u001b[49m\u001b[43m=\u001b[49m\u001b[38;5;28;43mself\u001b[39;49m\u001b[43m.\u001b[49m\u001b[43moptions\u001b[49m\u001b[43m.\u001b[49m\u001b[43mget\u001b[49m\u001b[43m(\u001b[49m\u001b[33;43m\"\u001b[39;49m\u001b[33;43mencoding_errors\u001b[39;49m\u001b[33;43m\"\u001b[39;49m\u001b[43m,\u001b[49m\u001b[43m \u001b[49m\u001b[33;43m\"\u001b[39;49m\u001b[33;43mstrict\u001b[39;49m\u001b[33;43m\"\u001b[39;49m\u001b[43m)\u001b[49m\u001b[43m,\u001b[49m\n\u001b[32m   1669\u001b[39m \u001b[43m    \u001b[49m\u001b[43mstorage_options\u001b[49m\u001b[43m=\u001b[49m\u001b[38;5;28;43mself\u001b[39;49m\u001b[43m.\u001b[49m\u001b[43moptions\u001b[49m\u001b[43m.\u001b[49m\u001b[43mget\u001b[49m\u001b[43m(\u001b[49m\u001b[33;43m\"\u001b[39;49m\u001b[33;43mstorage_options\u001b[39;49m\u001b[33;43m\"\u001b[39;49m\u001b[43m,\u001b[49m\u001b[43m \u001b[49m\u001b[38;5;28;43;01mNone\u001b[39;49;00m\u001b[43m)\u001b[49m\u001b[43m,\u001b[49m\n\u001b[32m   1670\u001b[39m \u001b[43m\u001b[49m\u001b[43m)\u001b[49m\n\u001b[32m   1671\u001b[39m \u001b[38;5;28;01massert\u001b[39;00m \u001b[38;5;28mself\u001b[39m.handles \u001b[38;5;129;01mis\u001b[39;00m \u001b[38;5;129;01mnot\u001b[39;00m \u001b[38;5;28;01mNone\u001b[39;00m\n\u001b[32m   1672\u001b[39m f = \u001b[38;5;28mself\u001b[39m.handles.handle\n",
      "\u001b[36mFile \u001b[39m\u001b[32m~/.pyenv/versions/3.11.7/lib/python3.11/site-packages/pandas/io/common.py:859\u001b[39m, in \u001b[36mget_handle\u001b[39m\u001b[34m(path_or_buf, mode, encoding, compression, memory_map, is_text, errors, storage_options)\u001b[39m\n\u001b[32m    854\u001b[39m \u001b[38;5;28;01melif\u001b[39;00m \u001b[38;5;28misinstance\u001b[39m(handle, \u001b[38;5;28mstr\u001b[39m):\n\u001b[32m    855\u001b[39m     \u001b[38;5;66;03m# Check whether the filename is to be opened in binary mode.\u001b[39;00m\n\u001b[32m    856\u001b[39m     \u001b[38;5;66;03m# Binary mode does not support 'encoding' and 'newline'.\u001b[39;00m\n\u001b[32m    857\u001b[39m     \u001b[38;5;28;01mif\u001b[39;00m ioargs.encoding \u001b[38;5;129;01mand\u001b[39;00m \u001b[33m\"\u001b[39m\u001b[33mb\u001b[39m\u001b[33m\"\u001b[39m \u001b[38;5;129;01mnot\u001b[39;00m \u001b[38;5;129;01min\u001b[39;00m ioargs.mode:\n\u001b[32m    858\u001b[39m         \u001b[38;5;66;03m# Encoding\u001b[39;00m\n\u001b[32m--> \u001b[39m\u001b[32m859\u001b[39m         handle = \u001b[38;5;28;43mopen\u001b[39;49m\u001b[43m(\u001b[49m\n\u001b[32m    860\u001b[39m \u001b[43m            \u001b[49m\u001b[43mhandle\u001b[49m\u001b[43m,\u001b[49m\n\u001b[32m    861\u001b[39m \u001b[43m            \u001b[49m\u001b[43mioargs\u001b[49m\u001b[43m.\u001b[49m\u001b[43mmode\u001b[49m\u001b[43m,\u001b[49m\n\u001b[32m    862\u001b[39m \u001b[43m            \u001b[49m\u001b[43mencoding\u001b[49m\u001b[43m=\u001b[49m\u001b[43mioargs\u001b[49m\u001b[43m.\u001b[49m\u001b[43mencoding\u001b[49m\u001b[43m,\u001b[49m\n\u001b[32m    863\u001b[39m \u001b[43m            \u001b[49m\u001b[43merrors\u001b[49m\u001b[43m=\u001b[49m\u001b[43merrors\u001b[49m\u001b[43m,\u001b[49m\n\u001b[32m    864\u001b[39m \u001b[43m            \u001b[49m\u001b[43mnewline\u001b[49m\u001b[43m=\u001b[49m\u001b[33;43m\"\u001b[39;49m\u001b[33;43m\"\u001b[39;49m\u001b[43m,\u001b[49m\n\u001b[32m    865\u001b[39m \u001b[43m        \u001b[49m\u001b[43m)\u001b[49m\n\u001b[32m    866\u001b[39m     \u001b[38;5;28;01melse\u001b[39;00m:\n\u001b[32m    867\u001b[39m         \u001b[38;5;66;03m# Binary mode\u001b[39;00m\n\u001b[32m    868\u001b[39m         handle = \u001b[38;5;28mopen\u001b[39m(handle, ioargs.mode)\n",
      "\u001b[31mFileNotFoundError\u001b[39m: [Errno 2] No such file or directory: '../../../../datasets/rotten_tomatoes_movie_reviews.csv'"
     ]
    }
   ],
   "source": [
    "import pandas as pd\n",
    "\n",
    "# Change this to the path where you stored the data files. See the top of this\n",
    "# notebook for links and information about the datasets.\n",
    "DATA_PATH = \"../../../../datasets/\"\n",
    "\n",
    "# read the datasets from CSV files\n",
    "reviews_all = pd.read_csv(DATA_PATH + \"rotten_tomatoes_movie_reviews.csv\")\n",
    "movies_all = pd.read_csv(DATA_PATH + \"rotten_tomatoes_movies.csv\")\n",
    "\n",
    "print(\"Data is loaded from CSV.\")"
   ]
  },
  {
   "cell_type": "markdown",
   "metadata": {},
   "source": [
    "### Pre-processing the data\n",
    "\n",
    "First, we rename one column in each of the two dataframes so that we can use\n",
    "them later to build a knowledge graph.\n"
   ]
  },
  {
   "cell_type": "code",
   "execution_count": 8,
   "metadata": {
    "tags": [
     "skip-execution"
    ]
   },
   "outputs": [],
   "source": [
    "# rename the id columns to more informative and useful names\n",
    "reviews_all = reviews_all.rename(columns={\"id\": \"reviewed_movie_id\"})\n",
    "movies_all = movies_all.rename(columns={\"id\": \"movie_id\"})"
   ]
  },
  {
   "cell_type": "markdown",
   "metadata": {},
   "source": [
    "Next, let's have a look at the movies that have the most reviews,\n",
    "and take a subset of the reviews to save time in this demo."
   ]
  },
  {
   "cell_type": "code",
   "execution_count": 9,
   "metadata": {
    "tags": [
     "skip-execution"
    ]
   },
   "outputs": [
    {
     "data": {
      "text/plain": [
       "reviewed_movie_id\n",
       "addams_family             3\n",
       "the_addams_family_2019    3\n",
       "the_addams_family_2       3\n",
       "addams_family_values      3\n",
       "Name: count, dtype: int64"
      ]
     },
     "execution_count": 9,
     "metadata": {},
     "output_type": "execute_result"
    }
   ],
   "source": [
    "# Here, we limit our dataset to the movies with the most reviews. This is simply\n",
    "# to save data processing and loading time while testing things in this notebook.\n",
    "N_TOP_MOVIES = 10\n",
    "most_reviewed_movies = reviews_all[\"reviewed_movie_id\"].value_counts()[:N_TOP_MOVIES]\n",
    "\n",
    "most_reviewed_movies"
   ]
  },
  {
   "cell_type": "code",
   "execution_count": 10,
   "metadata": {
    "tags": [
     "skip-execution"
    ]
   },
   "outputs": [],
   "source": [
    "# subset the data to only reviews and movies corresponding to the most reviewed movies\n",
    "reviews_data = reviews_all[\n",
    "    reviews_all[\"reviewed_movie_id\"].isin(most_reviewed_movies.index)\n",
    "]\n",
    "from getpass import getpass\n",
    "import os\n",
    "\n",
    "# 환경변수 설정\n",
    "os.environ['OPENAI_API_KEY'] = getpass('Enter your OpenAI API key: ')\n",
    "os.environ['ASTRA_DB_API_ENDPOINT'] = input('Enter your Astra DB API endpoint: ')\n",
    "os.environ['ASTRA_DB_APPLICATION_TOKEN'] = getpass('Enter your Astra DB Application token: ')movies_data = movies_all[movies_all[\"movie_id\"].isin(most_reviewed_movies.index)]"
   ]
  },
  {
   "cell_type": "markdown",
   "metadata": {},
   "source": [
    "### Create the vector store, with embedding\n",
    "\n",
    "Next, for the small data sample, we create an `AstraDBVectorStore` from\n",
    "LangChain using `OpenAIEmbeddings()` to embed the documents.\n"
   ]
  },
  {
   "cell_type": "code",
   "execution_count": 13,
   "metadata": {
    "tags": [
     "skip-execution"
    ]
   },
   "outputs": [],
   "source": [
    "os.environ['ASTRA_DB_API_ENDPOINT'] = input('Enter your Astra DB API endpoint: ')\n",
    "os.environ['ASTRA_DB_APPLICATION_TOKEN'] = getpass('Enter your Astra DB Application token: ')\n",
    "\n",
    "\n",
    "from langchain_astradb import AstraDBVectorStore\n",
    "from langchain_openai import OpenAIEmbeddings\n",
    "\n",
    "COLLECTION = \"movie_reviews_rotten_tomatoes\"\n",
    "vectorstore = AstraDBVectorStore(\n",
    "    embedding=OpenAIEmbeddings(),\n",
    "    collection_name=COLLECTION,\n",
    "    pre_delete_collection=True,\n",
    ")"
   ]
  },
  {
   "cell_type": "markdown",
   "metadata": {},
   "source": [
    "# Convert data to `Document` objects and store them\n",
    "\n",
    "Next, we convert both movies and movie reviews into LangChain `Document`\n",
    "objects. The content of each document---which is embedded into vectors---is\n",
    "configured to be the movie review text (for review documents) or the movie title\n",
    "(for movie documents). All remaining information is saved as metadata on each\n",
    "document.\n",
    "\n",
    "Note that to save time in this demo, we limit the dataset to include only the\n",
    "movies that have the most reviews."
   ]
  },
  {
   "cell_type": "code",
   "execution_count": 14,
   "metadata": {},
   "outputs": [
    {
     "name": "stdout",
     "output_type": "stream",
     "text": [
      "There are 16 total Documents\n"
     ]
    }
   ],
   "source": [
    "from langchain_core.documents import Document\n",
    "\n",
    "# Convert each movie review into a LangChain document\n",
    "documents = []\n",
    "# convert each movie into a LangChain document\n",
    "for index, row in movies_data.iterrows():\n",
    "    content = str(row[\"title\"])\n",
    "    metadata = row.fillna(\"\").astype(str).to_dict()\n",
    "    metadata[\"doc_type\"] = \"movie_info\"\n",
    "    document = Document(page_content=content, metadata=metadata)\n",
    "    documents.append(document)\n",
    "\n",
    "\n",
    "for index, row in reviews_data.iterrows():\n",
    "    content = str(row[\"reviewText\"])\n",
    "    metadata = row.drop(\"reviewText\").fillna(\"\").astype(str).to_dict()\n",
    "    metadata[\"doc_type\"] = \"movie_review\"\n",
    "    document = Document(page_content=content, metadata=metadata)\n",
    "    documents.append(document)\n",
    "\n",
    "\n",
    "# check the total number of documents\n",
    "print(\"There are\", len(documents), \"total Documents\")"
   ]
  },
  {
   "cell_type": "code",
   "execution_count": 15,
   "metadata": {},
   "outputs": [
    {
     "name": "stdout",
     "output_type": "stream",
     "text": [
      "{'audienceScore': '66',\n",
      " 'boxOffice': '$111.3M',\n",
      " 'director': 'Barry Sonnenfeld',\n",
      " 'distributor': 'Paramount Pictures',\n",
      " 'doc_type': 'movie_info',\n",
      " 'genre': 'Comedy',\n",
      " 'movie_id': 'addams_family',\n",
      " 'originalLanguage': 'English',\n",
      " 'rating': '',\n",
      " 'ratingContents': '',\n",
      " 'releaseDateStreaming': '2005-08-18',\n",
      " 'releaseDateTheaters': '1991-11-22',\n",
      " 'runtimeMinutes': '99',\n",
      " 'soundMix': 'Surround, Dolby SR',\n",
      " 'title': 'The Addams Family',\n",
      " 'tomatoMeter': '67.0',\n",
      " 'writer': 'Charles Addams,Caroline Thompson,Larry Wilson'}\n"
     ]
    }
   ],
   "source": [
    "# let's inspect the structure of a document\n",
    "from pprint import pprint\n",
    "\n",
    "pprint(documents[0].metadata)"
   ]
  },
  {
   "cell_type": "code",
   "execution_count": 16,
   "metadata": {},
   "outputs": [
    {
     "data": {
      "text/plain": [
       "['7c8c362d0d714d3fa7e5d354e54f372a',\n",
       " '028fbe73606d48f981af91838c40585c',\n",
       " 'c7cb144444d34cbaa1888dde4a8c27f5',\n",
       " '64389b44a7ba46ff961a13f59cd4bce8',\n",
       " 'a8490023ac9e4114a68907e33e26c00d',\n",
       " '9233a55d535346b1bec78e809ef3ce2a',\n",
       " '8cf4f83baaf443b3a6b442c42ba883fd',\n",
       " '3161073516494621978b7092c2a822f7',\n",
       " '5c6e4db5b30c4e588a4137cc1d8d2730',\n",
       " '67a8bfc79f844801ad8a6d4cef6c6c23',\n",
       " '9b2cdf4077b44b19b7c0ef2d6b7d18a6',\n",
       " '541a8680036344299743c8f83af850b4',\n",
       " 'f2de7779c90d404386782cc6724c1de3',\n",
       " 'b89175558e51433c9aef1640927f15e2',\n",
       " '4ff71ebb41e649e9b264adb401017a39',\n",
       " '0f5dd9f72507464eaeb5f9d51e146aa4']"
      ]
     },
     "execution_count": 16,
     "metadata": {},
     "output_type": "execute_result"
    }
   ],
   "source": [
    "# add documents to the store\n",
    "vectorstore.add_documents(documents)\n",
    "\n",
    "# NOTE: this may take some minutes to load many documents"
   ]
  },
  {
   "cell_type": "markdown",
   "metadata": {},
   "source": [
    "# Setting up the GraphRetriever\n",
    "\n",
    "The `GraphRetriever` operates on top of the vector store, using document\n",
    "metadata to traverse the implicit knowledge graph as defined by the `edges`\n",
    "parameter in `GraphRetriever` configuration.\n",
    "\n",
    "Edges are specified as directed pairs of metadata fields. In the example below,\n",
    "the edge configuration\n",
    "\n",
    "```\n",
    "edges = [(\"reviewed_movie_id\", \"movie_id\")]\n",
    "```\n",
    "\n",
    "specifies that there is a directed graph edge between two documents whenever the\n",
    "`reviewed_movie_id` of the first document matches the `movie_id` of the\n",
    "second---and graph traversal proceeds along these directed edges. In this case,\n",
    "all of our edges lead from a document containing a movie review to a document\n",
    "containing information about the movie.\n",
    "\n",
    "The `strategy` parameter of the `GraphRetriever` configuration determines how\n",
    "the graph is traversed, starting with the initial documents retrieved and\n",
    "proceeding along the directed edges to adjacent documents.\n",
    "\n",
    "In the example below, the configuration\n",
    "\n",
    "```\n",
    "strategy=Eager(start_k=10,\n",
    "               adjacent_k=10,\n",
    "               select_k=10,\n",
    "               max_depth=1)\n",
    "```\n",
    "\n",
    "uses the following steps:\n",
    "\n",
    "1. it initially retrieves `start_k=10` documents using pure vector search,\n",
    "2. then traverses graph edges from the initial documents to adjacent documents\n",
    "   (a max of `adjacent_k`),\n",
    "3. it repeats traversal from the new documents until reaching `max_depth=1`,\n",
    "4. it returns both the initial documents and documents retrieved during\n",
    "   traversal, up to a maximum of `select_k` documents.\n",
    "\n",
    "Note that in this simple example, each movie review has a graph edge leading to\n",
    "exactly one movie, so each initial document (a movie review) should have one\n",
    "edge to traverse to another document (a movie) at a depth of 1. And, each movie\n",
    "document has no out-going edges to traverse, so the traversal depth would not\n",
    "proceed beyond depth 1 regardless of the value for `max_depth`. We demonstrate\n",
    "deeper and more complex strategies in other examples.\n",
    "\n",
    "For more details, see the [documentation on GraphRetriever\n",
    "strategy.](https://datastax.github.io/graph-rag/reference/graph_retriever/strategies/#graph_retriever.strategies.Strategy)"
   ]
  },
  {
   "cell_type": "code",
   "execution_count": 17,
   "metadata": {},
   "outputs": [],
   "source": [
    "from graph_retriever.strategies import Eager\n",
    "from langchain_graph_retriever import GraphRetriever\n",
    "\n",
    "retriever = GraphRetriever(\n",
    "    store=vectorstore,\n",
    "    edges=[(\"reviewed_movie_id\", \"movie_id\")],\n",
    "    strategy=Eager(start_k=10, adjacent_k=10, select_k=100, max_depth=1),\n",
    ")"
   ]
  },
  {
   "cell_type": "code",
   "execution_count": 18,
   "metadata": {},
   "outputs": [
    {
     "name": "stdout",
     "output_type": "stream",
     "text": [
      "movie_info :  The Addams Family\n",
      "{'_depth': 0, '_similarity_score': 0.840286256329848, 'movie_id': 'addams_family', 'title': 'The Addams Family', 'audienceScore': '66', 'tomatoMeter': '67.0', 'rating': '', 'ratingContents': '', 'releaseDateTheaters': '1991-11-22', 'releaseDateStreaming': '2005-08-18', 'runtimeMinutes': '99', 'genre': 'Comedy', 'originalLanguage': 'English', 'director': 'Barry Sonnenfeld', 'writer': 'Charles Addams,Caroline Thompson,Larry Wilson', 'boxOffice': '$111.3M', 'distributor': 'Paramount Pictures', 'soundMix': 'Surround, Dolby SR', 'doc_type': 'movie_info'}\n",
      "\n",
      "movie_info :  The Addams Family\n",
      "{'_depth': 0, '_similarity_score': 0.840286256329848, 'movie_id': 'the_addams_family_2019', 'title': 'The Addams Family', 'audienceScore': '69', 'tomatoMeter': '45.0', 'rating': 'PG', 'ratingContents': \"['Some Action', 'Macabre and Suggestive Humor']\", 'releaseDateTheaters': '2019-10-11', 'releaseDateStreaming': '2019-10-11', 'runtimeMinutes': '87', 'genre': 'Kids & family, Comedy, Animation', 'originalLanguage': 'English', 'director': 'Conrad Vernon,Greg Tiernan', 'writer': 'Matt Lieberman,Erica Rivinoja', 'boxOffice': '$673.0K', 'distributor': 'Metro-Goldwyn-Mayer', 'soundMix': 'Dolby Atmos', 'doc_type': 'movie_info'}\n",
      "\n",
      "movie_info :  The Addams Family 2\n",
      "{'_depth': 0, '_similarity_score': 0.8305391812991912, 'movie_id': 'the_addams_family_2', 'title': 'The Addams Family 2', 'audienceScore': '69', 'tomatoMeter': '28.0', 'rating': 'PG', 'ratingContents': \"['Macabre and Rude Humor', 'Language', 'Violence']\", 'releaseDateTheaters': '2021-10-01', 'releaseDateStreaming': '2021-10-01', 'runtimeMinutes': '93', 'genre': 'Kids & family, Comedy, Adventure, Animation', 'originalLanguage': 'English', 'director': 'Greg Tiernan,Conrad Vernon', 'writer': 'Dan Hernandez,Benji Samit,Ben Queen,Susanna Fogel', 'boxOffice': '$56.5M', 'distributor': 'Metro-Goldwyn-Mayer', 'soundMix': '', 'doc_type': 'movie_info'}\n",
      "\n",
      "movie_review :  This serviceable animated sequel focuses on Wednesday's feelings of alienation and benefits from the family's kid-friendly jokes and road trip adventures.\n",
      "{'_depth': 0, '_similarity_score': 0.8291913136895857, 'reviewed_movie_id': 'the_addams_family_2', 'reviewId': '2832101', 'creationDate': '2021-10-15', 'criticName': 'Sandie Angulo Chen', 'isTopCritic': 'False', 'originalScore': '3/5', 'reviewState': 'fresh', 'publicatioName': 'Common Sense Media', 'scoreSentiment': 'POSITIVE', 'reviewUrl': 'https://www.commonsensemedia.org/movie-reviews/the-addams-family-2', 'doc_type': 'movie_review'}\n",
      "\n",
      "movie_review :  A witty family comedy that has enough sly humour to keep adults chuckling throughout.\n",
      "{'_depth': 0, '_similarity_score': 0.8290031509930276, 'reviewed_movie_id': 'addams_family', 'reviewId': '2509777', 'creationDate': '2018-09-12', 'criticName': 'John Ferguson', 'isTopCritic': 'False', 'originalScore': '4/5', 'reviewState': 'fresh', 'publicatioName': 'Radio Times', 'scoreSentiment': 'POSITIVE', 'reviewUrl': 'https://www.radiotimes.com/film/fj8hmt/the-addams-family/', 'doc_type': 'movie_review'}\n",
      "\n",
      "movie_info :  Addams Family Values\n",
      "{'_depth': 0, '_similarity_score': 0.8261482092724219, 'movie_id': 'addams_family_values', 'title': 'Addams Family Values', 'audienceScore': '63', 'tomatoMeter': '75.0', 'rating': '', 'ratingContents': '', 'releaseDateTheaters': '1993-11-19', 'releaseDateStreaming': '2003-08-05', 'runtimeMinutes': '93', 'genre': 'Comedy', 'originalLanguage': 'English', 'director': 'Barry Sonnenfeld', 'writer': 'Paul Rudnick', 'boxOffice': '$45.7M', 'distributor': 'Argentina Video Home, Paramount Pictures', 'soundMix': 'Surround, Dolby Digital', 'doc_type': 'movie_info'}\n",
      "\n",
      "movie_review :  The title is apt. Using those morbidly sensual cartoon characters as pawns, the new movie Addams Family Values launches a witty assault on those with fixed ideas about what constitutes a loving family. \n",
      "{'_depth': 0, '_similarity_score': 0.8257865398761203, 'reviewed_movie_id': 'addams_family_values', 'reviewId': '102734540', 'creationDate': '2022-09-21', 'criticName': 'Jami Bernard', 'isTopCritic': 'True', 'originalScore': '3.5/4', 'reviewState': 'fresh', 'publicatioName': 'New York Daily News', 'scoreSentiment': 'POSITIVE', 'reviewUrl': 'https://www.newspapers.com/clip/109964753/addams-family-values/', 'doc_type': 'movie_review'}\n",
      "\n",
      "movie_review :  ...The film's simplistic and episodic plot put a major dampener on what could have been a welcome breath of fresh air for family animation.\n",
      "{'_depth': 0, '_similarity_score': 0.8076066735264794, 'reviewed_movie_id': 'the_addams_family_2019', 'reviewId': '2661356', 'creationDate': '2020-01-17', 'criticName': 'Jennifer Heaton', 'isTopCritic': 'False', 'originalScore': '5.5/10', 'reviewState': 'rotten', 'publicatioName': 'Alternative Lens', 'scoreSentiment': 'NEGATIVE', 'reviewUrl': 'https://altfilmlens.wordpress.com/2020/01/17/my-end-of-year-surplus-review-extravaganza-thing-2019/', 'doc_type': 'movie_review'}\n",
      "\n",
      "movie_review :  Addams Family Values has its moments -- rather a lot of them, in fact. You knew that just from the title, which is a nice way of turning Charles Addams' family of ghouls, monsters and vampires loose on Dan Quayle.\n",
      "{'_depth': 0, '_similarity_score': 0.8047110585584795, 'reviewed_movie_id': 'addams_family_values', 'reviewId': '102734521', 'creationDate': '2022-09-21', 'criticName': 'Jeff Simon', 'isTopCritic': 'False', 'originalScore': '3/4', 'reviewState': 'fresh', 'publicatioName': 'Buffalo News', 'scoreSentiment': 'POSITIVE', 'reviewUrl': 'https://buffalonews.com/news/quirky-values-the-addams-family-returns-with-a-bouncing-baby/article_2aafde74-da6c-5fa7-924a-76bb1a906d9c.html', 'doc_type': 'movie_review'}\n",
      "\n",
      "movie_review :  The Addams Family 2 repeats what the first movie accomplished by taking the popular family and turning them into one of the most boringly generic kids films in recent years.\n",
      "{'_depth': 0, '_similarity_score': 0.8031341113840259, 'reviewed_movie_id': 'the_addams_family_2', 'reviewId': '102657551', 'creationDate': '2022-02-16', 'criticName': 'Mat Brunet', 'isTopCritic': 'False', 'originalScore': '4/10', 'reviewState': 'rotten', 'publicatioName': \"AniMat's Review (YouTube)\", 'scoreSentiment': 'NEGATIVE', 'reviewUrl': 'https://www.youtube.com/watch?v=G9deslxPDwI', 'doc_type': 'movie_review'}\n",
      "\n"
     ]
    }
   ],
   "source": [
    "INITIAL_PROMPT_TEXT = \"What are some good family movies?\"\n",
    "# INITIAL_PROMPT_TEXT = \"What are some recommendations of exciting action movies?\"\n",
    "# INITIAL_PROMPT_TEXT = \"What are some classic movies with amazing cinematography?\"\n",
    "\n",
    "\n",
    "# invoke the query\n",
    "query_results = retriever.invoke(INITIAL_PROMPT_TEXT)\n",
    "\n",
    "# print the raw retrieved results\n",
    "for result in query_results:\n",
    "    print(result.metadata[\"doc_type\"], \": \", result.page_content)\n",
    "    print(result.metadata)\n",
    "    print()"
   ]
  },
  {
   "cell_type": "markdown",
   "metadata": {},
   "source": [
    "# Compile Graph RAG results\n",
    "\n",
    "Now that we have completed graph retrieval, we can reformat the text and\n",
    "metadata in the results, so we can pass them to an LLM---via an augmented\n",
    "prompt---and generate a response to the initial prompt question."
   ]
  },
  {
   "cell_type": "code",
   "execution_count": 19,
   "metadata": {},
   "outputs": [
    {
     "name": "stdout",
     "output_type": "stream",
     "text": [
      "\n",
      "\n",
      " Movie Title: The Addams Family\n",
      " Movie ID: addams_family\n",
      " Review: A witty family comedy that has enough sly humour to keep adults chuckling throughout.\n",
      "\n",
      " Movie Title: The Addams Family\n",
      " Movie ID: the_addams_family_2019\n",
      " Review: ...The film's simplistic and episodic plot put a major dampener on what could have been a welcome breath of fresh air for family animation.\n",
      "\n",
      " Movie Title: The Addams Family 2\n",
      " Movie ID: the_addams_family_2\n",
      " Review: This serviceable animated sequel focuses on Wednesday's feelings of alienation and benefits from the family's kid-friendly jokes and road trip adventures.\n",
      " Review: The Addams Family 2 repeats what the first movie accomplished by taking the popular family and turning them into one of the most boringly generic kids films in recent years.\n",
      "\n",
      " Movie Title: Addams Family Values\n",
      " Movie ID: addams_family_values\n",
      " Review: The title is apt. Using those morbidly sensual cartoon characters as pawns, the new movie Addams Family Values launches a witty assault on those with fixed ideas about what constitutes a loving family. \n",
      " Review: Addams Family Values has its moments -- rather a lot of them, in fact. You knew that just from the title, which is a nice way of turning Charles Addams' family of ghouls, monsters and vampires loose on Dan Quayle.\n"
     ]
    }
   ],
   "source": [
    "# collect the movie info for each film retrieved\n",
    "compiled_results = {}\n",
    "for result in query_results:\n",
    "    if result.metadata[\"doc_type\"] == \"movie_info\":\n",
    "        movie_id = result.metadata[\"movie_id\"]\n",
    "        movie_title = result.metadata[\"title\"]\n",
    "        compiled_results[movie_id] = {\n",
    "            \"movie_id\": movie_id,\n",
    "            \"movie_title\": movie_title,\n",
    "            \"reviews\": {},\n",
    "        }\n",
    "\n",
    "# go through the results a second time, collecting the retreived reviews for\n",
    "# each of the movies\n",
    "for result in query_results:\n",
    "    if result.metadata[\"doc_type\"] == \"movie_review\":\n",
    "        reviewed_movie_id = result.metadata[\"reviewed_movie_id\"]\n",
    "        review_id = result.metadata[\"reviewId\"]\n",
    "        review_text = result.page_content\n",
    "        compiled_results[reviewed_movie_id][\"reviews\"][review_id] = review_text\n",
    "\n",
    "\n",
    "# compile the retrieved movies and reviews into a string that we can pass to an\n",
    "# LLM in an augmented prompt\n",
    "formatted_text = \"\"\n",
    "for movie_id, review_list in compiled_results.items():\n",
    "    formatted_text += \"\\n\\n Movie Title: \"\n",
    "    formatted_text += review_list[\"movie_title\"]\n",
    "    formatted_text += \"\\n Movie ID: \"\n",
    "    formatted_text += review_list[\"movie_id\"]\n",
    "    for review_id, review_text in review_list[\"reviews\"].items():\n",
    "        formatted_text += \"\\n Review: \"\n",
    "        formatted_text += review_text\n",
    "\n",
    "\n",
    "print(formatted_text)"
   ]
  },
  {
   "cell_type": "markdown",
   "metadata": {},
   "source": [
    "# Get an AI summary of results\n",
    "\n",
    "Here, using the `formatted_text` from above, we set up a prompt template, and\n",
    "then pass it the retrieved movie reviews along with the the original query text\n",
    "to be answered."
   ]
  },
  {
   "cell_type": "code",
   "execution_count": 20,
   "metadata": {},
   "outputs": [
    {
     "name": "stdout",
     "output_type": "stream",
     "text": [
      "Based on the reviews provided, here are some good family movies:\n",
      "\n",
      "1. **The Addams Family** - Described as a witty family comedy with enough sly humor to keep adults entertained, making it a good choice for family viewing.\n",
      "\n",
      "2. **Addams Family Values** - This movie is noted for its witty take on family values and has plenty of entertaining moments, making it a fun option for families.\n",
      "\n",
      "These movies offer humor and entertainment that can be enjoyed by both children and adults, making them suitable for family movie nights.\n"
     ]
    }
   ],
   "source": [
    "from langchain_core.prompts import PromptTemplate\n",
    "from langchain_openai import ChatOpenAI\n",
    "from pprint import pprint\n",
    "\n",
    "MODEL = ChatOpenAI(model=\"gpt-4o\", temperature=0)\n",
    "\n",
    "VECTOR_ANSWER_PROMPT = PromptTemplate.from_template(\"\"\"\n",
    "\n",
    "A list of Movie Reviews appears below. Please answer the Initial Prompt text\n",
    "(below) using only the listed Movie Reviews.\n",
    "\n",
    "Please include all movies that might be helpful to someone looking for movie\n",
    "recommendations.\n",
    "\n",
    "\n",
    "\n",
    "Initial Prompt:\n",
    "{initial_prompt}\n",
    "\n",
    "\n",
    "Movie Reviews:\n",
    "{movie_reviews}\n",
    "\"\"\")\n",
    "\n",
    "\n",
    "formatted_prompt = VECTOR_ANSWER_PROMPT.format(\n",
    "    initial_prompt=INITIAL_PROMPT_TEXT,\n",
    "    movie_reviews=formatted_text,\n",
    ")\n",
    "\n",
    "result = MODEL.invoke(formatted_prompt)\n",
    "\n",
    "# print(formatted_prompt)\n",
    "print(result.content)"
   ]
  }
 ],
 "metadata": {
  "kernelspec": {
   "display_name": "Python 3",
   "language": "python",
   "name": "python3"
  },
  "language_info": {
   "codemirror_mode": {
    "name": "ipython",
    "version": 3
   },
   "file_extension": ".py",
   "mimetype": "text/x-python",
   "name": "python",
   "nbconvert_exporter": "python",
   "pygments_lexer": "ipython3",
   "version": "3.11.7"
  }
 },
 "nbformat": 4,
 "nbformat_minor": 2
}
